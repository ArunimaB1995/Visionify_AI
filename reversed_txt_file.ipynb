{
 "cells": [
  {
   "cell_type": "code",
   "execution_count": 4,
   "metadata": {},
   "outputs": [],
   "source": [
    "import queue \n",
    "import random\n",
    "import time\n",
    "\n",
    "f2 = open(\"output2.txt\", \"w\")\n",
    "  \n",
    "# Open the input file again and get the content as list to a variable data\n",
    "with open(\"file.txt\", \"r\") as myfile:\n",
    "    data = myfile.readlines()\n",
    "\n",
    "    \n",
    "# We will just reverse the array using following code\n",
    "data_2 = data[::-1]\n",
    "  \n",
    "# Now we will write the fully reverse list in the output2 file using following command\n",
    "f2.writelines(data_2)\n",
    "  \n",
    "f2.close()"
   ]
  },
  {
   "cell_type": "code",
   "execution_count": null,
   "metadata": {},
   "outputs": [],
   "source": []
  }
 ],
 "metadata": {
  "kernelspec": {
   "display_name": "Python 3",
   "language": "python",
   "name": "python3"
  },
  "language_info": {
   "codemirror_mode": {
    "name": "ipython",
    "version": 3
   },
   "file_extension": ".py",
   "mimetype": "text/x-python",
   "name": "python",
   "nbconvert_exporter": "python",
   "pygments_lexer": "ipython3",
   "version": "3.8.8"
  }
 },
 "nbformat": 4,
 "nbformat_minor": 4
}
