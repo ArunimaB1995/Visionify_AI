{
 "cells": [
  {
   "cell_type": "code",
   "execution_count": 1,
   "metadata": {},
   "outputs": [
    {
     "name": "stdout",
     "output_type": "stream",
     "text": [
      "Reading video file\n",
      "Video Stopped!\n"
     ]
    }
   ],
   "source": [
    "# import the necessary packages\n",
    "import argparse\n",
    "import datetime\n",
    "import imutils\n",
    "import time\n",
    "import cv2\n",
    "# construct the argument parser and parse the arguments\n",
    "ap = argparse.ArgumentParser()\n",
    "ap.add_argument(\"-v\", \"--video\", default = 'video_samples/P1022142.mp4', help=\"path to the video file\")\n",
    "ap.add_argument(\"-a\", \"--min_area\", type=int, default=500, help=\"minimum area size\")\n",
    "args = ap.parse_args(args=[])\n",
    "\n",
    "\n",
    "if args.video:\n",
    "    cap = cv2.VideoCapture(args.video)\n",
    "#     fourcc = cv2.VideoWriter_fourcc(*'XVID')\n",
    "#     out = cv2.VideoWriter('videoOutput.mp4',fourcc,30.0,(640,480))\n",
    "    print(\"Reading video file\")\n",
    "else:\n",
    "    cap = cv2.VideoCapture(0)\n",
    "#     fourcc = cv2.VideoWriter_fourcc(*'XVID')\n",
    "#     out = cv2.VideoWriter('webcamOutput.mp4',fourcc,30.0,(640,480))\n",
    "    print(\"Reading from webcam\")\n",
    "    time.sleep(1)\n",
    "\n",
    "firstFrame = None\n",
    "# loop over the frames of the video\n",
    "while cap.isOpened():\n",
    "    # grab the current frame and initialize the occupied/unoccupied text\n",
    "    ret, frame = cap.read()\n",
    "    # if the frame could not be grabbed, then we have reached the end of the video\n",
    "    if not ret:\n",
    "        break\n",
    "    # resize the frame to 300x300 pixels, convert it to grayscale, and blur it\n",
    "#     blob = cv2.dnn.blobFromImage(cv2.resize(frame, (300, 300)), 0.007843, (300, 300), 127.5)\n",
    "    frame = cv2.resize(frame, (500,500))\n",
    "    gray = cv2.cvtColor(frame, cv2.COLOR_BGR2GRAY)\n",
    "    gray = cv2.GaussianBlur(gray, (21, 21), 0)\n",
    "    text = \"NO MOTION\"\n",
    "    # if the first frame is None, initialize it\n",
    "    if firstFrame is None:\n",
    "        firstFrame = gray\n",
    "        continue\n",
    "    # compute the absolute difference between the current frame and first frame\n",
    "    frameDelta = cv2.absdiff(firstFrame, gray)\n",
    "    thresh = cv2.threshold(frameDelta, 85, 255, cv2.THRESH_BINARY)[1]\n",
    "    # dilate the thresholded image to fill in holes, then find contours on thresholded image\n",
    "    thresh = cv2.dilate(thresh, None, iterations=2)\n",
    "    cnts = cv2.findContours(thresh.copy(), cv2.RETR_EXTERNAL, cv2.CHAIN_APPROX_SIMPLE)\n",
    "    cnts = imutils.grab_contours(cnts)\n",
    "    # loop over the contours\n",
    "    for c in cnts:\n",
    "        # if the contour is too small, ignore it\n",
    "        if cv2.contourArea(c) < args.min_area:\n",
    "            continue\n",
    "        # compute the bounding box for the contour, draw it on the frame,and update the text\n",
    "        (x, y, w, h) = cv2.boundingRect(c)\n",
    "        cv2.rectangle(frame, (x, y), (x + w, y + h), (0, 255, 0), 1)\n",
    "        text = \"MOTION DETECTED\"\n",
    "    # draw the text and timestamp on the frame\n",
    "    cv2.putText(frame, \"{}\".format(text), (10, 20), cv2.FONT_HERSHEY_DUPLEX, 0.8, (0, 0, 255), 2)\n",
    "    # show the frame and record if the user presses a key   \n",
    "    cv2.imshow(\"Frame Delta\", frameDelta)\n",
    "    cv2.imshow(\"Thresh\", thresh)\n",
    "    cv2.imshow(\"Live Feed\", frame)\n",
    "#     cv2.resizeWindow(\"Live Feed\", 900,700)\n",
    "    key = cv2.waitKey(1) & 0xFF\n",
    "    # if the `q` key is pressed, break from the lop\n",
    "    if key == ord(\"q\"):\n",
    "        break\n",
    "# cleanup the camera and close any open windows\n",
    "if args.video is not None:\n",
    "    cap.release()\n",
    "    print(\"Video Stopped!\")\n",
    "else:\n",
    "    cap.release()\n",
    "# out.release()\n",
    "cv2.destroyAllWindows()"
   ]
  },
  {
   "cell_type": "code",
   "execution_count": null,
   "metadata": {},
   "outputs": [],
   "source": []
  }
 ],
 "metadata": {
  "kernelspec": {
   "display_name": "Python 3",
   "language": "python",
   "name": "python3"
  },
  "language_info": {
   "codemirror_mode": {
    "name": "ipython",
    "version": 3
   },
   "file_extension": ".py",
   "mimetype": "text/x-python",
   "name": "python",
   "nbconvert_exporter": "python",
   "pygments_lexer": "ipython3",
   "version": "3.9.6"
  }
 },
 "nbformat": 4,
 "nbformat_minor": 4
}
